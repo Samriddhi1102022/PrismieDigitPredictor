{
 "cells": [
  {
   "cell_type": "code",
   "execution_count": 1,
   "id": "14e1eb7b",
   "metadata": {},
   "outputs": [],
   "source": [
    "import numpy as np\n",
    "import matplotlib.pyplot as plt"
   ]
  },
  {
   "cell_type": "code",
   "execution_count": 2,
   "id": "93b5e354",
   "metadata": {},
   "outputs": [],
   "source": [
    "import keras\n",
    "from keras.datasets import mnist\n",
    "from keras.models import Sequential\n",
    "from keras.layers import Dense, Flatten\n",
    "from keras.layers import Dropout\n",
    "from keras.layers import Flatten\n",
    "from keras.layers import Conv2D\n",
    "from keras.layers import MaxPool2D\n",
    "from keras import backend as K\n",
    "\n",
    "#  to split the data of training and testing sets\n",
    "(x_train, y_train), (x_test, y_test) = mnist.load_data()"
   ]
  },
  {
   "cell_type": "code",
   "execution_count": 3,
   "id": "8429f737",
   "metadata": {},
   "outputs": [
    {
     "data": {
      "text/plain": [
       "((60000, 28, 28), (60000,), (10000, 28, 28), (10000,))"
      ]
     },
     "execution_count": 3,
     "metadata": {},
     "output_type": "execute_result"
    }
   ],
   "source": [
    " x_train.shape,y_train.shape,x_test.shape,y_test.shape"
   ]
  },
  {
   "cell_type": "code",
   "execution_count": 4,
   "id": "45012212",
   "metadata": {},
   "outputs": [
    {
     "data": {
      "text/plain": [
       "<matplotlib.image.AxesImage at 0x18a15bbcfd0>"
      ]
     },
     "execution_count": 4,
     "metadata": {},
     "output_type": "execute_result"
    },
    {
     "data": {
      "image/png": "[encoded data removed]",
      "text/plain": [
       "<Figure size 640x480 with 1 Axes>"
      ]
     },
     "metadata": {},
     "output_type": "display_data"
    }
   ],
   "source": [
    "plt.imshow(x_train[0],cmap='binary')"
   ]
  },
  {
   "cell_type": "code",
   "execution_count": 5,
   "id": "73e6b599",
   "metadata": {},
   "outputs": [
    {
     "data": {
      "text/plain": [
       "(60000, 28, 28, 1)"
      ]
     },
     "execution_count": 5,
     "metadata": {},
     "output_type": "execute_result"
    }
   ],
   "source": [
    "x_train = x_train.astype(np.float32)\n",
    "x_test = x_test.astype(np.float32)\n",
    "x_train /= 255\n",
    "x_test /= 255\n",
    "x_train=np.expand_dims(x_train,-1)\n",
    "x_test=np.expand_dims(x_test,-1)\n",
    "x_train.shape\n",
    "\n"
   ]
  },
  {
   "cell_type": "code",
   "execution_count": 6,
   "id": "2199dee6",
   "metadata": {},
   "outputs": [
    {
     "data": {
      "text/plain": [
       "array([[0., 0., 0., ..., 0., 0., 0.],\n",
       "       [1., 0., 0., ..., 0., 0., 0.],\n",
       "       [0., 0., 0., ..., 0., 0., 0.],\n",
       "       ...,\n",
       "       [0., 0., 0., ..., 0., 0., 0.],\n",
       "       [0., 0., 0., ..., 0., 0., 0.],\n",
       "       [0., 0., 0., ..., 0., 1., 0.]], dtype=float32)"
      ]
     },
     "execution_count": 6,
     "metadata": {},
     "output_type": "execute_result"
    }
   ],
   "source": [
    "y_train=keras.utils.to_categorical(y_train)\n",
    "y_test=keras.utils.to_categorical(y_test)\n",
    "y_train"
   ]
  },
  {
   "cell_type": "code",
   "execution_count": 7,
   "id": "aa39ebf4",
   "metadata": {},
   "outputs": [
    {
     "name": "stdout",
     "output_type": "stream",
     "text": [
      "Model: \"sequential\"\n",
      "_________________________________________________________________\n",
      " Layer (type)                Output Shape              Param #   \n",
      "=================================================================\n",
      " conv2d (Conv2D)             (None, 26, 26, 32)        320       \n",
      "                                                                 \n",
      " max_pooling2d (MaxPooling2D  (None, 13, 13, 32)       0         \n",
      " )                                                               \n",
      "                                                                 \n",
      " conv2d_1 (Conv2D)           (None, 11, 11, 64)        18496     \n",
      "                                                                 \n",
      " flatten (Flatten)           (None, 7744)              0         \n",
      "                                                                 \n",
      " dropout (Dropout)           (None, 7744)              0         \n",
      "                                                                 \n",
      " dense (Dense)               (None, 10)                77450     \n",
      "                                                                 \n",
      "=================================================================\n",
      "Total params: 96,266\n",
      "Trainable params: 96,266\n",
      "Non-trainable params: 0\n",
      "_________________________________________________________________\n"
     ]
    }
   ],
   "source": [
    "model = Sequential()\n",
    "model.add(Conv2D(32,(3, 3),input_shape=(28,28,1),activation='relu'))\n",
    "model.add(MaxPool2D((2, 2)))\n",
    "model.add(Conv2D(64, (3, 3), activation='relu'))\n",
    "model.add(Flatten())\n",
    "model.add(Dropout(0.25))\n",
    "#model.add(Dense(256, activation='relu'))\n",
    "#model.add(Dropout(0.5))\n",
    "model.add(Dense(10, activation='softmax'))\n",
    "\n",
    "#model.add(Dense(10, activation='softmax'))\n",
    "model.summary()"
   ]
  },
  {
   "cell_type": "code",
   "execution_count": 8,
   "id": "4230088a",
   "metadata": {},
   "outputs": [],
   "source": [
    "model.compile(loss=keras.losses.categorical_crossentropy,optimizer='adam',metrics=['accuracy'])\n",
    "#model.compile(loss=keras.losses.categorical_crossentropy,optimizer='adam',metrics=['accuracy'])"
   ]
  },
  {
   "cell_type": "code",
   "execution_count": 9,
   "id": "e4f41659",
   "metadata": {},
   "outputs": [],
   "source": [
    "from keras.callbacks import EarlyStopping, ModelCheckpoint\n",
    "es=EarlyStopping(monitor='val_accuracy',min_delta=0.01,patience=4,verbose=1)\n",
    "mc=ModelCheckpoint(\"./bestmodel.h5\",monitor='val_accuracy',verbose=1,save_best_only=True)\n",
    "cb=[es,mc]"
   ]
  },
  {
   "cell_type": "code",
   "execution_count": 10,
   "id": "6c5f86e2",
   "metadata": {},
   "outputs": [
    {
     "name": "stdout",
     "output_type": "stream",
     "text": [
      "Epoch 1/10\n",
      "1311/1313 [============================>.] - ETA: 0s - loss: 0.1675 - accuracy: 0.9488\n",
      "Epoch 1: val_accuracy improved from -inf to 0.97894, saving model to .\\bestmodel.h5\n",
      "1313/1313 [==============================] - 40s 29ms/step - loss: 0.1675 - accuracy: 0.9488 - val_loss: 0.0685 - val_accuracy: 0.9789\n",
      "Epoch 2/10\n",
      "1312/1313 [============================>.] - ETA: 0s - loss: 0.0566 - accuracy: 0.9826\n",
      "Epoch 2: val_accuracy improved from 0.97894 to 0.98122, saving model to .\\bestmodel.h5\n",
      "1313/1313 [==============================] - 36s 28ms/step - loss: 0.0568 - accuracy: 0.9825 - val_loss: 0.0620 - val_accuracy: 0.9812\n",
      "Epoch 3/10\n",
      "1312/1313 [============================>.] - ETA: 0s - loss: 0.0425 - accuracy: 0.9867\n",
      "Epoch 3: val_accuracy improved from 0.98122 to 0.98233, saving model to .\\bestmodel.h5\n",
      "1313/1313 [==============================] - 36s 27ms/step - loss: 0.0425 - accuracy: 0.9867 - val_loss: 0.0619 - val_accuracy: 0.9823\n",
      "Epoch 4/10\n",
      "1311/1313 [============================>.] - ETA: 0s - loss: 0.0318 - accuracy: 0.9896\n",
      "Epoch 4: val_accuracy improved from 0.98233 to 0.98494, saving model to .\\bestmodel.h5\n",
      "1313/1313 [==============================] - 37s 28ms/step - loss: 0.0318 - accuracy: 0.9896 - val_loss: 0.0494 - val_accuracy: 0.9849\n",
      "Epoch 5/10\n",
      "1311/1313 [============================>.] - ETA: 0s - loss: 0.0253 - accuracy: 0.9918\n",
      "Epoch 5: val_accuracy improved from 0.98494 to 0.98633, saving model to .\\bestmodel.h5\n",
      "1313/1313 [==============================] - 37s 28ms/step - loss: 0.0253 - accuracy: 0.9918 - val_loss: 0.0475 - val_accuracy: 0.9863\n",
      "Epoch 5: early stopping\n"
     ]
    }
   ],
   "source": [
    "his=model.fit(x_train,y_train,epochs=10,validation_split=0.3,callbacks=cb)"
   ]
  },
  {
   "cell_type": "code",
   "execution_count": 11,
   "id": "00b8bb58",
   "metadata": {},
   "outputs": [
    {
     "name": "stdout",
     "output_type": "stream",
     "text": [
      "Saving the bot as mnist.h5\n"
     ]
    }
   ],
   "source": [
    "model.save('mnist.h5')\n",
    "print(\"Saving the bot as mnist.h5\")"
   ]
  },
  {
   "cell_type": "code",
   "execution_count": 12,
   "id": "fc8c2d83",
   "metadata": {},
   "outputs": [
    {
     "name": "stdout",
     "output_type": "stream",
     "text": [
      "313/313 [==============================] - 2s 8ms/step - loss: 0.0361 - accuracy: 0.9883\n",
      "Test loss: 0.0360962338745594\n",
      "Test accuracy: 0.9883000254631042\n"
     ]
    }
   ],
   "source": [
    "score = model.evaluate(x_test, y_test)\n",
    "print('Test loss:', score[0])\n",
    "print('Test accuracy:', score[1])"
   ]
  },
  {
   "cell_type": "code",
   "execution_count": 15,
   "id": "5b7cb471",
   "metadata": {},
   "outputs": [
    {
     "name": "stdout",
     "output_type": "stream",
     "text": [
      "dict_keys(['loss', 'accuracy', 'val_loss', 'val_accuracy'])\n"
     ]
    },
    {
     "data": {
      "image/png": "[encoded data removed]",
      "text/plain": [
       "<Figure size 640x480 with 1 Axes>"
      ]
     },
     "metadata": {},
     "output_type": "display_data"
    },
    {
     "data": {
      "image/png": "[encoded data removed]",
      "text/plain": [
       "<Figure size 640x480 with 1 Axes>"
      ]
     },
     "metadata": {},
     "output_type": "display_data"
    }
   ],
   "source": [
    "import matplotlib.pyplot as plt\n",
    "%matplotlib inline\n",
    "\n",
    "# list all data in training\n",
    "print(his.history.keys())\n",
    "\n",
    "# summarize training for accuracy\n",
    "plt.plot(his.history['accuracy'])\n",
    "plt.plot(his.history['val_accuracy'])\n",
    "plt.title('model accuracy')\n",
    "plt.ylabel('accuracy')\n",
    "plt.xlabel('epoch')\n",
    "plt.legend(['train', 'test'], loc='upper left')\n",
    "plt.show()\n",
    "\n",
    "# summarize traning for loss\n",
    "plt.plot(his.history['loss'])\n",
    "plt.plot(his.history['val_loss'])\n",
    "plt.title('model loss')\n",
    "plt.ylabel('loss')\n",
    "plt.xlabel('epoch')\n",
    "plt.legend(['train', 'test'], loc='upper left')\n",
    "plt.show()"
   ]
  },
  {
   "cell_type": "code",
   "execution_count": 18,
   "id": "4379a3ac",
   "metadata": {},
   "outputs": [
    {
     "name": "stdout",
     "output_type": "stream",
     "text": [
      "1/1 [==============================] - 0s 46ms/step\n",
      "1/1 [==============================] - 0s 17ms/step\n",
      "1/1 [==============================] - 0s 17ms/step\n",
      "1/1 [==============================] - 0s 18ms/step\n",
      "1/1 [==============================] - 0s 17ms/step\n",
      "1/1 [==============================] - 0s 18ms/step\n"
     ]
    },
    {
     "ename": "SystemExit",
     "evalue": "",
     "output_type": "error",
     "traceback": [
      "An exception has occurred, use %tb to see the full traceback.\n",
      "\u001b[1;31mSystemExit\u001b[0m\n"
     ]
    }
   ],
   "source": [
    "from tokenize import Number\n",
    "from numpy import testing\n",
    "from numpy.lib.type_check import imag\n",
    "\n",
    "import pygame, sys\n",
    "from pygame import image\n",
    "from pygame.locals import *\n",
    "import numpy as np\n",
    "from keras.models import load_model\n",
    "import cv2\n",
    "from tensorflow.python.keras.backend import constant\n",
    "\n",
    "\n",
    "WINDOWSIZEX = 640\n",
    "WINDOWSIZEY = 480\n",
    "\n",
    "WHITE=(255,255,255)\n",
    "BLACK=(0,0,0)\n",
    "RED=(255,0,0)\n",
    "\n",
    "IMAGESAVE=False\n",
    "\n",
    "BOUNDARYINC = 5\n",
    "\n",
    "MODEL = load_model(\"bestmodel.h5\")\n",
    "\n",
    "LABELS={0:\"Zero\", 1:\"One\", 2:\"Two\", 3:\"Three\", 4:\"Four\", 5:\"Five\", 6:\"Six\", 7:\"Seven\", 8:\"Eight\", 9:\"Nine\"}\n",
    "\n",
    "pygame.init()\n",
    "\n",
    "FONT=pygame.font.Font(\"freesansbold.ttf\", 18)\n",
    "DISPLAYSURF=pygame.display.set_mode((WINDOWSIZEX, WINDOWSIZEY))\n",
    "\n",
    "\n",
    "\n",
    "pygame.display.set_caption(\"Digit Board\")\n",
    "\n",
    "iswriting=False\n",
    "\n",
    "number_xcord=[]\n",
    "number_ycord=[]\n",
    "imag_cnt=1\n",
    "PREDICT = True\n",
    "\n",
    "while True:\n",
    "    for event in pygame.event.get():\n",
    "        if event.type==QUIT:\n",
    "            pygame.quit()\n",
    "            sys.exit()\n",
    "        if event.type == MOUSEMOTION and iswriting:\n",
    "            xcord, ycord = event.pos\n",
    "            pygame.draw.circle(DISPLAYSURF, WHITE, (xcord, ycord), 4, 0)\n",
    "\n",
    "            number_xcord.append(xcord)\n",
    "            number_ycord.append(ycord)\n",
    "        if event.type==MOUSEBUTTONUP:\n",
    "            iswriting=False\n",
    "            number_xcord=sorted(number_xcord)\n",
    "            number_ycord=sorted(number_ycord)\n",
    "\n",
    "            rect_min_x , rect_max_x = max(number_xcord[0]-BOUNDARYINC, 0),min(WINDOWSIZEX, number_xcord[-1]+BOUNDARYINC)\n",
    "            rect_min_y , rect_max_y = max(number_ycord[0]-BOUNDARYINC, 0),min(WINDOWSIZEX, number_ycord[-1]+BOUNDARYINC)\n",
    "\n",
    "            number_xcord=[]\n",
    "            number_ycord=[]\n",
    "\n",
    "            img_arr=np.array(pygame.PixelArray(DISPLAYSURF))[rect_min_x:rect_max_x,rect_min_y:rect_max_y].T.astype(np.float32)\n",
    "\n",
    "            if IMAGESAVE:\n",
    "                cv2.imwrite(\"image.png\")\n",
    "                imag_cnt +=1\n",
    "\n",
    "            if PREDICT:\n",
    "                image = cv2.resize(img_arr, (28,28))\n",
    "                image = np.pad(image, (10,10), \"constant\", constant_values = 0)\n",
    "                image = cv2.resize(image, (28,28))/255\n",
    "\n",
    "                label = str(LABELS[np.argmax(MODEL.predict(image.reshape(1,28,28,1)))])\n",
    "\n",
    "                textSurface = FONT.render(label, True, RED, WHITE)\n",
    "                textRecObj = textSurface.get_rect()\n",
    "                textRecObj.left , textRecObj.bottom = rect_min_x, rect_max_y\n",
    "\n",
    "                DISPLAYSURF.blit(textSurface , textRecObj)\n",
    "            if event.type==KEYDOWN:\n",
    "                if event.unicode=='n':\n",
    "                    DISPLAYSURF.fill(BLACK)\n",
    "\n",
    "        pygame.display.update()\n",
    "\n",
    "        if event.type == MOUSEBUTTONDOWN:\n",
    "            iswriting=True"
   ]
  },
  {
   "cell_type": "code",
   "execution_count": null,
   "id": "1021b1d5",
   "metadata": {},
   "outputs": [],
   "source": []
  }
 ],
 "metadata": {
  "kernelspec": {
   "display_name": "Python 3 (ipykernel)",
   "language": "python",
   "name": "python3"
  },
  "language_info": {
   "codemirror_mode": {
    "name": "ipython",
    "version": 3
   },
   "file_extension": ".py",
   "mimetype": "text/x-python",
   "name": "python",
   "nbconvert_exporter": "python",
   "pygments_lexer": "ipython3",
   "version": "3.9.13"
  }
 },
 "nbformat": 4,
 "nbformat_minor": 5
}
